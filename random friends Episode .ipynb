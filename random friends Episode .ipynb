{
 "cells": [
  {
   "cell_type": "code",
   "execution_count": 2,
   "metadata": {},
   "outputs": [],
   "source": [
    "from bs4 import BeautifulSoup as bs\n",
    "import requests"
   ]
  },
  {
   "cell_type": "code",
   "execution_count": 30,
   "metadata": {},
   "outputs": [],
   "source": [
    "episodes= []\n",
    "for j in range(1,11):\n",
    "    url = 'https://www.imdb.com/title/tt0108778/episodes?season='+str(j)\n",
    "    res = requests.get(url)\n",
    "    soup = bs(res.content)\n",
    "    abc = soup.find_all(\"div\",{\"class\":\"info\"})\n",
    "    ep =1\n",
    "    for i in abc:\n",
    "        df = i.find(\"strong\")    \n",
    "        episodes += [(f\" Season {j} Episode {ep} :{df.text}\")] \n",
    "        ep +=1\n"
   ]
  },
  
  {
   "cell_type": "code",
   "execution_count": 37,
   "metadata": {},
   "outputs": [
    {
     "name": "stdout",
     "output_type": "stream",
     "text": [
      " Season 2 Episode 21 :The One with the Bullies\n"
     ]
    }
   ],
   "source": [
    "import random\n",
    "\n",
    "num = random.randint(1,236)\n",
    "print(episodes[num])"
   ]
  }
 ],
 "metadata": {
  "kernelspec": {
   "display_name": "Python 3",
   "language": "python",
   "name": "python3"
  },
  "language_info": {
   "codemirror_mode": {
    "name": "ipython",
    "version": 3
   },
   "file_extension": ".py",
   "mimetype": "text/x-python",
   "name": "python",
   "nbconvert_exporter": "python",
   "pygments_lexer": "ipython3",
   "version": "3.6.9"
  }
 },
 "nbformat": 4,
 "nbformat_minor": 2
}
